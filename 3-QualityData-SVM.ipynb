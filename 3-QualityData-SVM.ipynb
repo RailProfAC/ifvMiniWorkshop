{
 "cells": [
  {
   "cell_type": "markdown",
   "metadata": {},
   "source": [
    "# Predict unobserved product properties by help of machine learning"
   ]
  },
  {
   "cell_type": "code",
   "execution_count": null,
   "metadata": {},
   "outputs": [],
   "source": [
    "# Standard imports\n",
    "import numpy as np\n",
    "import os\n",
    "import itertools\n",
    "%matplotlib inline\n",
    "import matplotlib\n",
    "import matplotlib.pyplot as plt\n",
    "import pandas as pd\n",
    "from pandas.plotting import scatter_matrix\n",
    "import seaborn as sns\n",
    "# Scikit learn imports\n",
    "from sklearn.svm import SVC\n",
    "from sklearn.preprocessing import StandardScaler\n",
    "from sklearn.metrics import confusion_matrix\n",
    "# Get a colormap\n",
    "cm = plt.cm.get_cmap('RdYlGn')"
   ]
  },
  {
   "cell_type": "markdown",
   "metadata": {},
   "source": [
    "## Method to plot a 3D-decision plane"
   ]
  },
  {
   "cell_type": "code",
   "execution_count": null,
   "metadata": {},
   "outputs": [],
   "source": [
    "# Plot the decision plane between two classes\n",
    "def plot_svc_decision_plane(ax, svm_clf, xmin, xmax, ymin, ymax):\n",
    "    w = svm_clf.coef_[0]\n",
    "    b = svm_clf.intercept_[0]\n",
    "\n",
    "    # At the decision boundary, w0 * x + w1*y + w2 * z + b = 0\n",
    "    # => z = -w0/w2 * x -w1/w2 * y  - b/w2\n",
    "    x = np.linspace(xmin, xmax, 10)\n",
    "    y = np.linspace(ymin, ymax, 10)\n",
    "    [X, Y] = np.meshgrid(x, y)\n",
    "    decision_boundary = -w[0]/w[2] * X - w[1]/w[2] * Y - b/w[2]\n",
    "\n",
    "    #svs = svm_clf.support_vectors_\n",
    "    #plt.scatter(svs[:, 0], svs[:, 1], s=180, facecolors='#FFAAAA')\n",
    "    ax.plot_wireframe(X, Y, decision_boundary)#, \"k-\", linewidth=2)"
   ]
  },
  {
   "cell_type": "code",
   "execution_count": null,
   "metadata": {},
   "outputs": [],
   "source": [
    "# Minimum acceptable force\n",
    "Fmin = 18000"
   ]
  },
  {
   "cell_type": "code",
   "execution_count": null,
   "metadata": {},
   "outputs": [],
   "source": [
    "# Load data\n",
    "SpringPB = pd.read_csv(os.path.join(\"SpringPBData.csv\"))\n",
    "# Initialise scaler\n",
    "scaler = StandardScaler()\n",
    "# Data selection\n",
    "X = SpringPB[['l', 'h1', 'h2']]\n",
    "# Scale data\n",
    "X = scaler.fit_transform(X)\n",
    "# Label training data\n",
    "y = (SpringPB['F'] > Fmin)*1.0\n",
    "# Initialise support vector machine\n",
    "svm_clf = SVC(kernel=\"linear\")\n",
    "# Fit SVM\n",
    "svm_clf.fit(X, y)"
   ]
  },
  {
   "cell_type": "code",
   "execution_count": null,
   "metadata": {},
   "outputs": [],
   "source": [
    "sns.set()\n",
    "# Plot 3D scatter with decision boundary\n",
    "from mpl_toolkits.mplot3d import Axes3D\n",
    "x = X[:,1]#SpringPB[\"h1\"]\n",
    "y = X[:,2]#SpringPB[\"h2\"]\n",
    "z = X[:,0]#SpringPB[\"l\"]\n",
    "c = (SpringPB[\"F\"]>Fmin)*1.0\n",
    "\n",
    "with sns.axes_style('white'):\n",
    "    fig = plt.figure(figsize=(10, 10))\n",
    "    ax = fig.add_subplot(111, projection='3d')\n",
    "\n",
    "    ax.scatter(x, y, z, c = c, cmap = cm)\n",
    "    plot_svc_decision_plane(ax, svm_clf, min(x), max(x), min(y), max(y))\n",
    "    ax.set_xlabel('$h_1$')\n",
    "    ax.set_ylabel('$h_2$')\n",
    "    ax.set_zlabel('$l$')"
   ]
  },
  {
   "cell_type": "markdown",
   "metadata": {},
   "source": [
    "## Test on unseen data!"
   ]
  },
  {
   "cell_type": "markdown",
   "metadata": {},
   "source": [
    "Pregenerated data"
   ]
  },
  {
   "cell_type": "code",
   "execution_count": null,
   "metadata": {},
   "outputs": [],
   "source": [
    "SpringPBval = pd.read_csv(os.path.join(\"SpringPBDataValidation.csv\"))\n",
    "Xval = SpringPBval[['l', 'h1', 'h2']]\n",
    "Xval_scaled = scaler.transform(Xval)\n",
    "# Predict force outcome acc. to SVM\n",
    "Fconf_pred = np.reshape((svm_clf.predict(Xval_scaled) == 1), (len(Xval), 1))\n",
    "# True force outcome for comparison\n",
    "Fconf_true = (SpringPBval['F'] > Fmin)"
   ]
  },
  {
   "cell_type": "markdown",
   "metadata": {},
   "source": [
    "Alternatively: generate data by MC simulation"
   ]
  },
  {
   "cell_type": "code",
   "execution_count": null,
   "metadata": {},
   "outputs": [],
   "source": [
    "# Generate unseen test data\n",
    "Nval = 10000\n",
    "dval = 0.1*np.random.rand(Nval,1)-.05\n",
    "lval = 0.1*np.random.rand(Nval,1)-.05\n",
    "#h1 = np.concatenate((0.1*np.random.rand(np.int(N/2),1)+.2, 0.1*np.random.rand(np.int(N/2),1)-.2))\n",
    "h1val = 0.1*np.random.rand(Nval,1)-.05\n",
    "h2val = lval + h1val\n",
    "#h2 = 0.1*np.random.rand(N,1)\n",
    "#h2 = -h1*(1+0.1*(np.random.rand(N,1)-0.05))\n",
    "cval = 20000+300*np.random.randn(Nval,1)\n",
    "Fval = cval*(1+(h1val+lval+dval+h2val))\n",
    "Xval = np.concatenate((lval[:], h1val[:], h2val[:]), axis = 1)\n",
    "# Scale withidentical scaler\n",
    "Xval_scaled = scaler.transform(Xval)\n",
    "# Predict force outcome acc. to SVM\n",
    "Fconf_pred = np.reshape((svm_clf.predict(Xval_scaled) == 1), (Nval, 1))\n",
    "# True force outcome for comparison\n",
    "Fconf_true = (Fval > Fmin)"
   ]
  },
  {
   "cell_type": "markdown",
   "metadata": {},
   "source": [
    "Inspect confusion matrix"
   ]
  },
  {
   "cell_type": "code",
   "execution_count": null,
   "metadata": {},
   "outputs": [],
   "source": [
    "conf_mat = confusion_matrix(Fconf_pred, Fconf_true)\n",
    "plt.imshow(conf_mat, cmap = plt.cm.Blues, alpha = 0.3)\n",
    "plt.colorbar()\n",
    "plt.xticks((0, 1), (\"NOK\", \"OK\"))\n",
    "plt.yticks((0, 1), (\"NOK\", \"OK\"))\n",
    "plt.xlabel('Predicted Class')\n",
    "plt.ylabel('True Class')\n",
    "for i,j in itertools.product((0,1), (0,1)):\n",
    "    plt.text(j,i, conf_mat[i,j], fontsize = 16)\n"
   ]
  }
 ],
 "metadata": {
  "kernelspec": {
   "display_name": "Python 3",
   "language": "python",
   "name": "python3"
  },
  "language_info": {
   "codemirror_mode": {
    "name": "ipython",
    "version": 3
   },
   "file_extension": ".py",
   "mimetype": "text/x-python",
   "name": "python",
   "nbconvert_exporter": "python",
   "pygments_lexer": "ipython3",
   "version": "3.5.4"
  }
 },
 "nbformat": 4,
 "nbformat_minor": 2
}
