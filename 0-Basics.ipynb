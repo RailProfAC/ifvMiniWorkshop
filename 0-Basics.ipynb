{
 "cells": [
  {
   "cell_type": "markdown",
   "metadata": {},
   "source": [
    "# Introduction to Python and Jupyter\n",
    "1. sfdsdf\n",
    "1. sdfgsf\n",
    "1. sdfsd"
   ]
  },
  {
   "cell_type": "markdown",
   "metadata": {},
   "source": [
    "Good practice to start with hello world:"
   ]
  },
  {
   "cell_type": "code",
   "execution_count": 1,
   "metadata": {},
   "outputs": [
    {
     "name": "stdout",
     "output_type": "stream",
     "text": [
      "Hello World!\n"
     ]
    }
   ],
   "source": [
    "print('Hello World!')"
   ]
  },
  {
   "cell_type": "markdown",
   "metadata": {},
   "source": [
    "## Basics"
   ]
  },
  {
   "cell_type": "markdown",
   "metadata": {},
   "source": [
    "Dynamically typed, i.e. no declaration required. Strings are arrays of letters."
   ]
  },
  {
   "cell_type": "code",
   "execution_count": 2,
   "metadata": {},
   "outputs": [
    {
     "name": "stdout",
     "output_type": "stream",
     "text": [
      "5\n",
      "John\n",
      "oh\n",
      "4\n"
     ]
    }
   ],
   "source": [
    "x = 5\n",
    "y = \"John\"\n",
    "print(x)\n",
    "print(y)\n",
    "print(y[1:3]) # Strings are list of letters, here second and third are selected\n",
    "print(len(y)) # How long is John's name?"
   ]
  },
  {
   "cell_type": "markdown",
   "metadata": {},
   "source": [
    "Indentation for program structure and a comment:"
   ]
  },
  {
   "cell_type": "code",
   "execution_count": 3,
   "metadata": {},
   "outputs": [
    {
     "name": "stdout",
     "output_type": "stream",
     "text": [
      "Hello, World 1!\n",
      "Hello, World 2!\n",
      "Hello, World 3!\n",
      "Hello, World 4!\n",
      "Hello, World 5!\n",
      "Hello, World 6!\n",
      "Hello, World 7!\n",
      "Hello, World 8!\n",
      "Hello, World 9!\n"
     ]
    }
   ],
   "source": [
    "for i in range(1,10):\n",
    "    print('Hello, World '+ str(i) + '!')\n",
    "    # Greet some parallel worlds"
   ]
  },
  {
   "cell_type": "code",
   "execution_count": 5,
   "metadata": {},
   "outputs": [
    {
     "data": {
      "text/plain": [
       "2.0"
      ]
     },
     "execution_count": 5,
     "metadata": {},
     "output_type": "execute_result"
    }
   ],
   "source": [
    "float('2')"
   ]
  },
  {
   "cell_type": "markdown",
   "metadata": {},
   "source": [
    "## Data structures"
   ]
  },
  {
   "cell_type": "markdown",
   "metadata": {},
   "source": [
    "### Lists"
   ]
  },
  {
   "cell_type": "code",
   "execution_count": 9,
   "metadata": {},
   "outputs": [
    {
     "name": "stdout",
     "output_type": "stream",
     "text": [
      "['apple', 'banana', 'cherry']\n",
      "banana\n",
      "['apple', 'banana', 'cherry', 'pear']\n",
      "['banana', 'cherry']\n",
      "pear\n",
      "['apple', 'banana', 'cherry', 'orange']\n",
      "['banana', 'cherry']\n"
     ]
    }
   ],
   "source": [
    "l = [\"apple\", \"banana\", \"cherry\"]\n",
    "print(l)\n",
    "print(l[1]) # Print only the second item\n",
    "l.append('pear') # Append an item\n",
    "print(l)\n",
    "print(l[1:3]) # Range of elements\n",
    "print(l[-1]) # Final element\n",
    "l[3] = 'orange' # Change item 4\n",
    "print(l)\n",
    "l[-1] = \"melon\"\n",
    "print(l[-3:-1])"
   ]
  },
  {
   "cell_type": "markdown",
   "metadata": {},
   "source": [
    "Loop through lists"
   ]
  },
  {
   "cell_type": "code",
   "execution_count": 12,
   "metadata": {},
   "outputs": [
    {
     "name": "stdout",
     "output_type": "stream",
     "text": [
      "apple\n",
      "cherry\n"
     ]
    }
   ],
   "source": [
    "for x in l[0:3:2]:\n",
    "    print(x)"
   ]
  },
  {
   "cell_type": "markdown",
   "metadata": {},
   "source": [
    "Conditional statement based on list"
   ]
  },
  {
   "cell_type": "code",
   "execution_count": 11,
   "metadata": {},
   "outputs": [
    {
     "name": "stdout",
     "output_type": "stream",
     "text": [
      "Yes, 'apple' is in the fruits list\n"
     ]
    }
   ],
   "source": [
    "if \"apple\" in l:\n",
    "    print(\"Yes, 'apple' is in the fruits list\")"
   ]
  },
  {
   "cell_type": "markdown",
   "metadata": {},
   "source": [
    "List length"
   ]
  },
  {
   "cell_type": "code",
   "execution_count": 14,
   "metadata": {},
   "outputs": [
    {
     "data": {
      "text/plain": [
       "4"
      ]
     },
     "execution_count": 14,
     "metadata": {},
     "output_type": "execute_result"
    }
   ],
   "source": [
    "len(l)"
   ]
  },
  {
   "cell_type": "markdown",
   "metadata": {},
   "source": [
    "### Tuples\n",
    "Tuples are ordered and unchangeable"
   ]
  },
  {
   "cell_type": "code",
   "execution_count": 15,
   "metadata": {},
   "outputs": [
    {
     "name": "stdout",
     "output_type": "stream",
     "text": [
      "('apple', 'banana', 'cherry')\n",
      "banana\n",
      "('banana', 'cherry')\n",
      "cherry\n"
     ]
    }
   ],
   "source": [
    "t = (\"apple\", \"banana\", \"cherry\")\n",
    "print(t)\n",
    "print(t[1]) # Print only the second item\n",
    "print(t[1:3]) # Range of elements\n",
    "print(t[-1]) # Final element\n"
   ]
  },
  {
   "cell_type": "code",
   "execution_count": 16,
   "metadata": {},
   "outputs": [
    {
     "name": "stdout",
     "output_type": "stream",
     "text": [
      "apple\n",
      "banana\n",
      "cherry\n"
     ]
    }
   ],
   "source": [
    "for x in t:\n",
    "    print(x)"
   ]
  },
  {
   "cell_type": "markdown",
   "metadata": {},
   "source": [
    "### Sets\n",
    "Sets are unordered data structures"
   ]
  },
  {
   "cell_type": "code",
   "execution_count": 19,
   "metadata": {},
   "outputs": [
    {
     "data": {
      "text/plain": [
       "{'banana', 'cherry'}"
      ]
     },
     "execution_count": 19,
     "metadata": {},
     "output_type": "execute_result"
    }
   ],
   "source": [
    "s = {\"apple\", \"banana\", \"cherry\"}\n",
    "s2 = {\"banana\", \"cherry\", \"orange\"}\n",
    "s.intersection(s2)"
   ]
  },
  {
   "cell_type": "code",
   "execution_count": 20,
   "metadata": {},
   "outputs": [
    {
     "name": "stdout",
     "output_type": "stream",
     "text": [
      "banana\n",
      "cherry\n"
     ]
    }
   ],
   "source": [
    "for x in s.intersection(s2):\n",
    "    print(x)"
   ]
  },
  {
   "cell_type": "markdown",
   "metadata": {},
   "source": [
    "Add items"
   ]
  },
  {
   "cell_type": "code",
   "execution_count": 21,
   "metadata": {},
   "outputs": [
    {
     "name": "stdout",
     "output_type": "stream",
     "text": [
      "{'banana', 'cherry', 'apple', 'pear'}\n"
     ]
    }
   ],
   "source": [
    "s.add('pear')\n",
    "print(s)"
   ]
  },
  {
   "cell_type": "code",
   "execution_count": 22,
   "metadata": {},
   "outputs": [
    {
     "name": "stdout",
     "output_type": "stream",
     "text": [
      "{'cherry', 'apple', 'pear'}\n"
     ]
    }
   ],
   "source": [
    "s.remove('banana')\n",
    "print(s)"
   ]
  },
  {
   "cell_type": "markdown",
   "metadata": {},
   "source": [
    "### Dictionaries (Dicts)\n",
    "Dicts support lookup"
   ]
  },
  {
   "cell_type": "code",
   "execution_count": 23,
   "metadata": {},
   "outputs": [
    {
     "name": "stdout",
     "output_type": "stream",
     "text": [
      "{'power': 5600, 'make': 'Bombardier', 'model': 'Traxx'}\n"
     ]
    }
   ],
   "source": [
    "d ={\n",
    "  \"make\": \"Bombardier\",\n",
    "  \"model\": \"Traxx\",\n",
    "  \"power\": 5600\n",
    "}\n",
    "print(d)"
   ]
  },
  {
   "cell_type": "markdown",
   "metadata": {},
   "source": [
    "Access model"
   ]
  },
  {
   "cell_type": "code",
   "execution_count": 24,
   "metadata": {},
   "outputs": [
    {
     "data": {
      "text/plain": [
       "'Traxx'"
      ]
     },
     "execution_count": 24,
     "metadata": {},
     "output_type": "execute_result"
    }
   ],
   "source": [
    "d['model']"
   ]
  },
  {
   "cell_type": "markdown",
   "metadata": {},
   "source": [
    "Access power"
   ]
  },
  {
   "cell_type": "code",
   "execution_count": 25,
   "metadata": {},
   "outputs": [
    {
     "data": {
      "text/plain": [
       "5600"
      ]
     },
     "execution_count": 25,
     "metadata": {},
     "output_type": "execute_result"
    }
   ],
   "source": [
    "d['power']"
   ]
  },
  {
   "cell_type": "markdown",
   "metadata": {},
   "source": [
    "Change power"
   ]
  },
  {
   "cell_type": "code",
   "execution_count": 26,
   "metadata": {},
   "outputs": [],
   "source": [
    "d['power'] = 4200"
   ]
  },
  {
   "cell_type": "markdown",
   "metadata": {},
   "source": [
    "Add item"
   ]
  },
  {
   "cell_type": "code",
   "execution_count": 27,
   "metadata": {},
   "outputs": [
    {
     "name": "stdout",
     "output_type": "stream",
     "text": [
      "{'year': 2016, 'power': 4200, 'make': 'Bombardier', 'model': 'Traxx'}\n"
     ]
    }
   ],
   "source": [
    "d['year'] = 2016\n",
    "print(d)"
   ]
  },
  {
   "cell_type": "markdown",
   "metadata": {},
   "source": [
    "## Pandas"
   ]
  },
  {
   "cell_type": "code",
   "execution_count": 28,
   "metadata": {},
   "outputs": [],
   "source": [
    "import pandas as pd\n",
    "import numpy as np"
   ]
  },
  {
   "cell_type": "markdown",
   "metadata": {},
   "source": [
    "Read list of all stations in Germany"
   ]
  },
  {
   "cell_type": "code",
   "execution_count": 29,
   "metadata": {},
   "outputs": [],
   "source": [
    "df = pd.read_csv(\n",
    "    'http://download-data.deutschebahn.com/static/datasets/haltestellen/D_Bahnhof_2017_09.csv',\n",
    "    sep = ';', # Separator default is \",\"\n",
    "    decimal=\",\") # Grr"
   ]
  },
  {
   "cell_type": "markdown",
   "metadata": {},
   "source": [
    "Inspect import"
   ]
  },
  {
   "cell_type": "code",
   "execution_count": 33,
   "metadata": {},
   "outputs": [
    {
     "data": {
      "text/html": [
       "<div>\n",
       "<style scoped>\n",
       "    .dataframe tbody tr th:only-of-type {\n",
       "        vertical-align: middle;\n",
       "    }\n",
       "\n",
       "    .dataframe tbody tr th {\n",
       "        vertical-align: top;\n",
       "    }\n",
       "\n",
       "    .dataframe thead th {\n",
       "        text-align: right;\n",
       "    }\n",
       "</style>\n",
       "<table border=\"1\" class=\"dataframe\">\n",
       "  <thead>\n",
       "    <tr style=\"text-align: right;\">\n",
       "      <th></th>\n",
       "      <th>EVA_NR</th>\n",
       "      <th>DS100</th>\n",
       "      <th>IFOPT</th>\n",
       "      <th>NAME</th>\n",
       "      <th>VERKEHR</th>\n",
       "      <th>LAENGE</th>\n",
       "      <th>BREITE</th>\n",
       "      <th>STATUS</th>\n",
       "    </tr>\n",
       "  </thead>\n",
       "  <tbody>\n",
       "    <tr>\n",
       "      <th>0</th>\n",
       "      <td>8000001</td>\n",
       "      <td>KA</td>\n",
       "      <td>de:05334:1008</td>\n",
       "      <td>Aachen Hbf</td>\n",
       "      <td>FV</td>\n",
       "      <td>6.091499</td>\n",
       "      <td>50.767800</td>\n",
       "      <td>NaN</td>\n",
       "    </tr>\n",
       "    <tr>\n",
       "      <th>1</th>\n",
       "      <td>8000002</td>\n",
       "      <td>TA</td>\n",
       "      <td>de:08136:1000</td>\n",
       "      <td>Aalen Hbf</td>\n",
       "      <td>FV</td>\n",
       "      <td>10.096271</td>\n",
       "      <td>48.841013</td>\n",
       "      <td>NaN</td>\n",
       "    </tr>\n",
       "    <tr>\n",
       "      <th>2</th>\n",
       "      <td>8000004</td>\n",
       "      <td>HA</td>\n",
       "      <td>de:05774:7131</td>\n",
       "      <td>Altenbeken</td>\n",
       "      <td>FV</td>\n",
       "      <td>8.943319</td>\n",
       "      <td>51.766433</td>\n",
       "      <td>NaN</td>\n",
       "    </tr>\n",
       "    <tr>\n",
       "      <th>3</th>\n",
       "      <td>8000007</td>\n",
       "      <td>FALZ</td>\n",
       "      <td>de:07331:55</td>\n",
       "      <td>Alzey</td>\n",
       "      <td>RV</td>\n",
       "      <td>8.109749</td>\n",
       "      <td>49.750200</td>\n",
       "      <td>NaN</td>\n",
       "    </tr>\n",
       "    <tr>\n",
       "      <th>4</th>\n",
       "      <td>8000009</td>\n",
       "      <td>NAN</td>\n",
       "      <td>de:09561:11000</td>\n",
       "      <td>Ansbach</td>\n",
       "      <td>FV</td>\n",
       "      <td>10.578239</td>\n",
       "      <td>49.298032</td>\n",
       "      <td>NaN</td>\n",
       "    </tr>\n",
       "  </tbody>\n",
       "</table>\n",
       "</div>"
      ],
      "text/plain": [
       "    EVA_NR DS100           IFOPT        NAME VERKEHR     LAENGE     BREITE  \\\n",
       "0  8000001    KA   de:05334:1008  Aachen Hbf      FV   6.091499  50.767800   \n",
       "1  8000002    TA   de:08136:1000   Aalen Hbf      FV  10.096271  48.841013   \n",
       "2  8000004    HA   de:05774:7131  Altenbeken      FV   8.943319  51.766433   \n",
       "3  8000007  FALZ     de:07331:55       Alzey      RV   8.109749  49.750200   \n",
       "4  8000009   NAN  de:09561:11000     Ansbach      FV  10.578239  49.298032   \n",
       "\n",
       "  STATUS  \n",
       "0    NaN  \n",
       "1    NaN  \n",
       "2    NaN  \n",
       "3    NaN  \n",
       "4    NaN  "
      ]
     },
     "execution_count": 33,
     "metadata": {},
     "output_type": "execute_result"
    }
   ],
   "source": [
    "df.head()"
   ]
  },
  {
   "cell_type": "markdown",
   "metadata": {},
   "source": [
    "Access only a single column:"
   ]
  },
  {
   "cell_type": "code",
   "execution_count": 35,
   "metadata": {},
   "outputs": [
    {
     "data": {
      "text/plain": [
       "0    Aachen Hbf\n",
       "1     Aalen Hbf\n",
       "2    Altenbeken\n",
       "3         Alzey\n",
       "4       Ansbach\n",
       "Name: NAME, dtype: object"
      ]
     },
     "execution_count": 35,
     "metadata": {},
     "output_type": "execute_result"
    }
   ],
   "source": [
    "df['NAME'].head()"
   ]
  },
  {
   "cell_type": "markdown",
   "metadata": {},
   "source": [
    "Names of all long distance stations"
   ]
  },
  {
   "cell_type": "code",
   "execution_count": 36,
   "metadata": {},
   "outputs": [
    {
     "data": {
      "text/plain": [
       "0        True\n",
       "1        True\n",
       "2        True\n",
       "3       False\n",
       "4        True\n",
       "5        True\n",
       "6       False\n",
       "7       False\n",
       "8        True\n",
       "9        True\n",
       "10      False\n",
       "11      False\n",
       "12      False\n",
       "13      False\n",
       "14       True\n",
       "15      False\n",
       "16      False\n",
       "17      False\n",
       "18       True\n",
       "19       True\n",
       "20       True\n",
       "21      False\n",
       "22       True\n",
       "23      False\n",
       "24       True\n",
       "25      False\n",
       "26      False\n",
       "27      False\n",
       "28       True\n",
       "29      False\n",
       "        ...  \n",
       "6575    False\n",
       "6576    False\n",
       "6577    False\n",
       "6578    False\n",
       "6579    False\n",
       "6580    False\n",
       "6581    False\n",
       "6582    False\n",
       "6583    False\n",
       "6584    False\n",
       "6585    False\n",
       "6586    False\n",
       "6587    False\n",
       "6588    False\n",
       "6589    False\n",
       "6590    False\n",
       "6591    False\n",
       "6592    False\n",
       "6593    False\n",
       "6594    False\n",
       "6595    False\n",
       "6596    False\n",
       "6597    False\n",
       "6598    False\n",
       "6599    False\n",
       "6600    False\n",
       "6601    False\n",
       "6602    False\n",
       "6603    False\n",
       "6604    False\n",
       "Name: VERKEHR, Length: 6605, dtype: bool"
      ]
     },
     "execution_count": 36,
     "metadata": {},
     "output_type": "execute_result"
    }
   ],
   "source": [
    "df['VERKEHR'] == 'FV'"
   ]
  },
  {
   "cell_type": "code",
   "execution_count": 37,
   "metadata": {},
   "outputs": [
    {
     "data": {
      "text/plain": [
       "0                              Aachen Hbf\n",
       "1                               Aalen Hbf\n",
       "2                              Altenbeken\n",
       "4                                 Ansbach\n",
       "5                       Aschaffenburg Hbf\n",
       "8                            Augsburg Hbf\n",
       "9                               Aulendorf\n",
       "14                           Bad Hersfeld\n",
       "18                                Bamberg\n",
       "19                           Basel Bad Bf\n",
       "20                             Schwandorf\n",
       "22                                  Bebra\n",
       "24                               Bensheim\n",
       "28                          Bielefeld Hbf\n",
       "31                      Bingen(Rhein) Hbf\n",
       "33                             Bochum Hbf\n",
       "36                               Bonn Hbf\n",
       "37                            Boppard Hbf\n",
       "41                       Braunschweig Hbf\n",
       "42                             Bremen Hbf\n",
       "46                               Bruchsal\n",
       "48                                Buchloe\n",
       "49                                 Büchen\n",
       "50                           Bünde(Westf)\n",
       "55                                  Celle\n",
       "58                             Crailsheim\n",
       "59                          Darmstadt Hbf\n",
       "61                            Delmenhorst\n",
       "64                     Singen(Hohentwiel)\n",
       "67                                  Soest\n",
       "                      ...                \n",
       "4638                          Wittenberge\n",
       "4651                               Züssow\n",
       "4657                Berlin-Charlottenburg\n",
       "4658                       Berlin-Spandau\n",
       "4659                       Berlin Wannsee\n",
       "4660           Berlin Zoologischer Garten\n",
       "4683                               Anklam\n",
       "4689                               Apolda\n",
       "4725                 Berlin Gesundbrunnen\n",
       "4732                      Berlin Südkreuz\n",
       "4752                           Berlin Hbf\n",
       "4769                       Ostseebad Binz\n",
       "5083                Heilbad Heiligenstadt\n",
       "5134                        Jena Paradies\n",
       "5250              Leipzig/Halle Flughafen\n",
       "5418                        Leipzig Messe\n",
       "5530                          Potsdam Hbf\n",
       "5542                                Prora\n",
       "5588               Ribnitz-Damgarten West\n",
       "5819                           Warnemünde\n",
       "5938                     Bernau(b Berlin)\n",
       "6031       Westerland(Sylt), Sylt Shuttle\n",
       "6033        Frankfurt(M) Flughafen Fernbf\n",
       "6034    Frankfurt(M) Flughafen Regionalbf\n",
       "6199            Köln Messe/Deutz Gl.11-12\n",
       "6353                Niebüll, Sylt Shuttle\n",
       "6501                    Berlin Hbf (tief)\n",
       "6503                   Leipzig Hbf (tief)\n",
       "6504                 München Hbf Gl.27-36\n",
       "6505                  München Hbf Gl.5-10\n",
       "Name: NAME, Length: 348, dtype: object"
      ]
     },
     "execution_count": 37,
     "metadata": {},
     "output_type": "execute_result"
    }
   ],
   "source": [
    "df[df['VERKEHR'] == 'FV']['NAME']"
   ]
  },
  {
   "cell_type": "markdown",
   "metadata": {},
   "source": [
    "How many long distance stations are there in Germany?"
   ]
  },
  {
   "cell_type": "code",
   "execution_count": 38,
   "metadata": {},
   "outputs": [
    {
     "data": {
      "text/plain": [
       "348"
      ]
     },
     "execution_count": 38,
     "metadata": {},
     "output_type": "execute_result"
    }
   ],
   "source": [
    "df[df['VERKEHR'] == 'FV']['NAME'].count()"
   ]
  },
  {
   "cell_type": "markdown",
   "metadata": {},
   "source": [
    "List all stations with Berlin in their name"
   ]
  },
  {
   "cell_type": "code",
   "execution_count": 39,
   "metadata": {},
   "outputs": [
    {
     "data": {
      "text/plain": [
       "697                    Hamburg Berliner Tor\n",
       "4370                      Berlin-Karlshorst\n",
       "4371                     Berlin-Lichtenberg\n",
       "4373                     Berlin-Schöneweide\n",
       "4425            Berlin-Schönefeld Flughafen\n",
       "4541                      Berlin Ostbahnhof\n",
       "4657                  Berlin-Charlottenburg\n",
       "4658                         Berlin-Spandau\n",
       "4659                         Berlin Wannsee\n",
       "4660             Berlin Zoologischer Garten\n",
       "4680                Berlin-Lichterfelde Ost\n",
       "4685                           Berlin-Karow\n",
       "4725                   Berlin Gesundbrunnen\n",
       "4732                        Berlin Südkreuz\n",
       "4735                 Berlin Potsdamer Platz\n",
       "4751                  Berlin Alexanderplatz\n",
       "4752                             Berlin Hbf\n",
       "4753                        Berlin Ostkreuz\n",
       "4754                   Berlin Jungfernheide\n",
       "4776                     Blumberg(b Berlin)\n",
       "4821                 Berlin Friedrichstraße\n",
       "5103                Berlin-Hohenschönhausen\n",
       "5708                         Berlin-Staaken\n",
       "5938                       Bernau(b Berlin)\n",
       "5948                  Hennigsdorf(b Berlin)\n",
       "6283                    Bergfelde(b Berlin)\n",
       "6285                 Birkenwerder(b Berlin)\n",
       "6291                  Fredersdorf(b Berlin)\n",
       "6305              Hohen Neuendorf(b Berlin)\n",
       "6315                   Neuenhagen(b Berlin)\n",
       "                       ...                 \n",
       "6461               Berlin Jungfernheide (S)\n",
       "6462                    Berlin Eichborndamm\n",
       "6463    Berlin Karl-Bonhoeffer-Nervenklinik\n",
       "6464               Berlin Alt-Reinickendorf\n",
       "6465                Berlin Köllnische Heide\n",
       "6466                   Berlin Hermannstraße\n",
       "6467               Berlin Innsbrucker Platz\n",
       "6468                     Berlin Bundesplatz\n",
       "6469                Berlin Hohenzollerndamm\n",
       "6470                        Berlin-Halensee\n",
       "6471      Berlin Messe Nord/ICC (Witzleben)\n",
       "6472                         Berlin Westend\n",
       "6473              Berlin Heidelberger Platz\n",
       "6474            Berlin-Lichterfelde Ost (S)\n",
       "6475                        Berlin-Lankwitz\n",
       "6476                         Berlin Südende\n",
       "6477                       Berlin Westhafen\n",
       "6478                   Berlin Beusselstraße\n",
       "6480                         Berlin-Wedding\n",
       "6481                 Berlin-Schöneweide (S)\n",
       "6483                     Berlin Sonnenallee\n",
       "6484            Berlin Messe Süd (Eichkamp)\n",
       "6485                      Berlin Heerstraße\n",
       "6486                  Berlin Olympiastadion\n",
       "6487                     Berlin-Pichelsberg\n",
       "6488                Berlin-Lichterfelde Süd\n",
       "6489                 Berlin Osdorfer Straße\n",
       "6490                      Berlin-Schöneberg\n",
       "6491             Berlin Julius-Leber-Brücke\n",
       "6501                      Berlin Hbf (tief)\n",
       "Name: NAME, Length: 152, dtype: object"
      ]
     },
     "execution_count": 39,
     "metadata": {},
     "output_type": "execute_result"
    }
   ],
   "source": [
    "df[df['NAME'].str.contains('Berlin')]['NAME']"
   ]
  },
  {
   "cell_type": "markdown",
   "metadata": {},
   "source": [
    "Name, Lat and Lon of 'Berlin' Stations"
   ]
  },
  {
   "cell_type": "code",
   "execution_count": 40,
   "metadata": {},
   "outputs": [
    {
     "data": {
      "text/html": [
       "<div>\n",
       "<style scoped>\n",
       "    .dataframe tbody tr th:only-of-type {\n",
       "        vertical-align: middle;\n",
       "    }\n",
       "\n",
       "    .dataframe tbody tr th {\n",
       "        vertical-align: top;\n",
       "    }\n",
       "\n",
       "    .dataframe thead th {\n",
       "        text-align: right;\n",
       "    }\n",
       "</style>\n",
       "<table border=\"1\" class=\"dataframe\">\n",
       "  <thead>\n",
       "    <tr style=\"text-align: right;\">\n",
       "      <th></th>\n",
       "      <th>NAME</th>\n",
       "      <th>LAENGE</th>\n",
       "      <th>BREITE</th>\n",
       "    </tr>\n",
       "  </thead>\n",
       "  <tbody>\n",
       "    <tr>\n",
       "      <th>697</th>\n",
       "      <td>Hamburg Berliner Tor</td>\n",
       "      <td>10.024630</td>\n",
       "      <td>53.552870</td>\n",
       "    </tr>\n",
       "    <tr>\n",
       "      <th>4370</th>\n",
       "      <td>Berlin-Karlshorst</td>\n",
       "      <td>13.526813</td>\n",
       "      <td>52.480681</td>\n",
       "    </tr>\n",
       "    <tr>\n",
       "      <th>4371</th>\n",
       "      <td>Berlin-Lichtenberg</td>\n",
       "      <td>13.496923</td>\n",
       "      <td>52.509896</td>\n",
       "    </tr>\n",
       "    <tr>\n",
       "      <th>4373</th>\n",
       "      <td>Berlin-Schöneweide</td>\n",
       "      <td>13.509395</td>\n",
       "      <td>52.455127</td>\n",
       "    </tr>\n",
       "    <tr>\n",
       "      <th>4425</th>\n",
       "      <td>Berlin-Schönefeld Flughafen</td>\n",
       "      <td>13.512710</td>\n",
       "      <td>52.391062</td>\n",
       "    </tr>\n",
       "  </tbody>\n",
       "</table>\n",
       "</div>"
      ],
      "text/plain": [
       "                             NAME     LAENGE     BREITE\n",
       "697          Hamburg Berliner Tor  10.024630  53.552870\n",
       "4370            Berlin-Karlshorst  13.526813  52.480681\n",
       "4371           Berlin-Lichtenberg  13.496923  52.509896\n",
       "4373           Berlin-Schöneweide  13.509395  52.455127\n",
       "4425  Berlin-Schönefeld Flughafen  13.512710  52.391062"
      ]
     },
     "execution_count": 40,
     "metadata": {},
     "output_type": "execute_result"
    }
   ],
   "source": [
    "df2 = df[df['NAME'].str.contains('Berlin')][['NAME','LAENGE', 'BREITE']]\n",
    "df2.head()"
   ]
  },
  {
   "cell_type": "markdown",
   "metadata": {},
   "source": [
    "Find southernmost 'Berlin' station"
   ]
  },
  {
   "cell_type": "code",
   "execution_count": 41,
   "metadata": {},
   "outputs": [
    {
     "data": {
      "text/html": [
       "<div>\n",
       "<style scoped>\n",
       "    .dataframe tbody tr th:only-of-type {\n",
       "        vertical-align: middle;\n",
       "    }\n",
       "\n",
       "    .dataframe tbody tr th {\n",
       "        vertical-align: top;\n",
       "    }\n",
       "\n",
       "    .dataframe thead th {\n",
       "        text-align: right;\n",
       "    }\n",
       "</style>\n",
       "<table border=\"1\" class=\"dataframe\">\n",
       "  <thead>\n",
       "    <tr style=\"text-align: right;\">\n",
       "      <th></th>\n",
       "      <th>NAME</th>\n",
       "      <th>LAENGE</th>\n",
       "      <th>BREITE</th>\n",
       "    </tr>\n",
       "  </thead>\n",
       "  <tbody>\n",
       "    <tr>\n",
       "      <th>6434</th>\n",
       "      <td>Berlin-Lichtenrade</td>\n",
       "      <td>13.396175</td>\n",
       "      <td>52.387297</td>\n",
       "    </tr>\n",
       "    <tr>\n",
       "      <th>4425</th>\n",
       "      <td>Berlin-Schönefeld Flughafen</td>\n",
       "      <td>13.512710</td>\n",
       "      <td>52.391062</td>\n",
       "    </tr>\n",
       "    <tr>\n",
       "      <th>6405</th>\n",
       "      <td>Berlin Schichauweg</td>\n",
       "      <td>13.389303</td>\n",
       "      <td>52.398837</td>\n",
       "    </tr>\n",
       "    <tr>\n",
       "      <th>6384</th>\n",
       "      <td>Berlin Grünbergallee</td>\n",
       "      <td>13.542485</td>\n",
       "      <td>52.399411</td>\n",
       "    </tr>\n",
       "    <tr>\n",
       "      <th>6420</th>\n",
       "      <td>Berlin-Altglienicke</td>\n",
       "      <td>13.558753</td>\n",
       "      <td>52.407299</td>\n",
       "    </tr>\n",
       "  </tbody>\n",
       "</table>\n",
       "</div>"
      ],
      "text/plain": [
       "                             NAME     LAENGE     BREITE\n",
       "6434           Berlin-Lichtenrade  13.396175  52.387297\n",
       "4425  Berlin-Schönefeld Flughafen  13.512710  52.391062\n",
       "6405           Berlin Schichauweg  13.389303  52.398837\n",
       "6384         Berlin Grünbergallee  13.542485  52.399411\n",
       "6420          Berlin-Altglienicke  13.558753  52.407299"
      ]
     },
     "execution_count": 41,
     "metadata": {},
     "output_type": "execute_result"
    }
   ],
   "source": [
    "df2.sort_values('BREITE', inplace = True)\n",
    "df2.head()"
   ]
  },
  {
   "cell_type": "markdown",
   "metadata": {},
   "source": [
    "Export to JSON format"
   ]
  },
  {
   "cell_type": "code",
   "execution_count": 42,
   "metadata": {},
   "outputs": [],
   "source": [
    "df2.to_json('BerlinStations.json')"
   ]
  },
  {
   "cell_type": "markdown",
   "metadata": {},
   "source": [
    "Read data from AWS cloud storage (S3)"
   ]
  },
  {
   "cell_type": "code",
   "execution_count": 43,
   "metadata": {},
   "outputs": [],
   "source": [
    "df = pd.read_json('https://s3-eu-west-1.amazonaws.com/ifvworkshopdata/emma1000.json')"
   ]
  },
  {
   "cell_type": "code",
   "execution_count": 44,
   "metadata": {},
   "outputs": [
    {
     "data": {
      "text/html": [
       "<div>\n",
       "<style scoped>\n",
       "    .dataframe tbody tr th:only-of-type {\n",
       "        vertical-align: middle;\n",
       "    }\n",
       "\n",
       "    .dataframe tbody tr th {\n",
       "        vertical-align: top;\n",
       "    }\n",
       "\n",
       "    .dataframe thead th {\n",
       "        text-align: right;\n",
       "    }\n",
       "</style>\n",
       "<table border=\"1\" class=\"dataframe\">\n",
       "  <thead>\n",
       "    <tr style=\"text-align: right;\">\n",
       "      <th></th>\n",
       "      <th>v</th>\n",
       "      <th>x</th>\n",
       "      <th>y</th>\n",
       "      <th>z</th>\n",
       "    </tr>\n",
       "  </thead>\n",
       "  <tbody>\n",
       "    <tr>\n",
       "      <th>0</th>\n",
       "      <td>-1.0</td>\n",
       "      <td>9.678717</td>\n",
       "      <td>47.992597</td>\n",
       "      <td>557.519958</td>\n",
       "    </tr>\n",
       "    <tr>\n",
       "      <th>1</th>\n",
       "      <td>-1.0</td>\n",
       "      <td>9.678717</td>\n",
       "      <td>47.992597</td>\n",
       "      <td>557.519958</td>\n",
       "    </tr>\n",
       "    <tr>\n",
       "      <th>2</th>\n",
       "      <td>0.0</td>\n",
       "      <td>9.678639</td>\n",
       "      <td>47.992538</td>\n",
       "      <td>561.268433</td>\n",
       "    </tr>\n",
       "    <tr>\n",
       "      <th>3</th>\n",
       "      <td>0.0</td>\n",
       "      <td>9.678639</td>\n",
       "      <td>47.992538</td>\n",
       "      <td>561.268433</td>\n",
       "    </tr>\n",
       "    <tr>\n",
       "      <th>4</th>\n",
       "      <td>0.0</td>\n",
       "      <td>9.678639</td>\n",
       "      <td>47.992538</td>\n",
       "      <td>562.678432</td>\n",
       "    </tr>\n",
       "  </tbody>\n",
       "</table>\n",
       "</div>"
      ],
      "text/plain": [
       "     v         x          y           z\n",
       "0 -1.0  9.678717  47.992597  557.519958\n",
       "1 -1.0  9.678717  47.992597  557.519958\n",
       "2  0.0  9.678639  47.992538  561.268433\n",
       "3  0.0  9.678639  47.992538  561.268433\n",
       "4  0.0  9.678639  47.992538  562.678432"
      ]
     },
     "execution_count": 44,
     "metadata": {},
     "output_type": "execute_result"
    }
   ],
   "source": [
    "df.head()"
   ]
  },
  {
   "cell_type": "code",
   "execution_count": 45,
   "metadata": {},
   "outputs": [
    {
     "data": {
      "text/plain": [
       "0     -1.00\n",
       "1     -1.00\n",
       "2      0.00\n",
       "3      0.00\n",
       "4      0.00\n",
       "5      0.00\n",
       "6      0.00\n",
       "7      0.00\n",
       "8      0.00\n",
       "9      0.00\n",
       "10     0.00\n",
       "11     0.00\n",
       "12     0.00\n",
       "13     0.00\n",
       "14     0.00\n",
       "15     0.00\n",
       "16     0.00\n",
       "17     0.00\n",
       "18     0.00\n",
       "19     0.00\n",
       "20     0.29\n",
       "21     0.29\n",
       "22     0.29\n",
       "23     0.29\n",
       "24     0.29\n",
       "25     0.29\n",
       "26     0.29\n",
       "27     0.29\n",
       "28     0.35\n",
       "29     0.35\n",
       "       ... \n",
       "970    0.00\n",
       "971    0.00\n",
       "972    0.00\n",
       "973    0.00\n",
       "974    0.00\n",
       "975    0.00\n",
       "976    0.00\n",
       "977    0.00\n",
       "978    0.00\n",
       "979    0.00\n",
       "980    0.00\n",
       "981    0.00\n",
       "982    0.00\n",
       "983    0.00\n",
       "984    0.00\n",
       "985    0.00\n",
       "986    0.00\n",
       "987    0.00\n",
       "988    0.00\n",
       "989    0.00\n",
       "990    0.00\n",
       "991    0.00\n",
       "992    0.00\n",
       "993    0.00\n",
       "994    0.00\n",
       "995    0.00\n",
       "996    0.00\n",
       "997    0.00\n",
       "998    0.00\n",
       "999    0.00\n",
       "Name: v, Length: 1000, dtype: float64"
      ]
     },
     "execution_count": 45,
     "metadata": {},
     "output_type": "execute_result"
    }
   ],
   "source": [
    "df['v']"
   ]
  },
  {
   "cell_type": "code",
   "execution_count": null,
   "metadata": {},
   "outputs": [],
   "source": []
  }
 ],
 "metadata": {
  "kernelspec": {
   "display_name": "Python 3",
   "language": "python",
   "name": "python3"
  },
  "language_info": {
   "codemirror_mode": {
    "name": "ipython",
    "version": 3
   },
   "file_extension": ".py",
   "mimetype": "text/x-python",
   "name": "python",
   "nbconvert_exporter": "python",
   "pygments_lexer": "ipython3",
   "version": "3.5.4"
  }
 },
 "nbformat": 4,
 "nbformat_minor": 2
}
