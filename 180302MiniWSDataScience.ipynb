{
 "cells": [
  {
   "cell_type": "markdown",
   "metadata": {},
   "source": [
    "# Import und Analyse der Federspeicherdaten\n",
    "\n",
    "* Importieren von Bibliotheken\n",
    "* Laden Federspeicherdaten"
   ]
  },
  {
   "cell_type": "code",
   "execution_count": null,
   "metadata": {},
   "outputs": [],
   "source": [
    "# Betriebssystem\n",
    "import os\n",
    "# Plotbibliothek\n",
    "import matplotlib\n",
    "import matplotlib.pyplot as plt\n",
    "# Effizientes Tabellenformat (DataFrames)\n",
    "import pandas as pd\n",
    "# Luxus-Plot für DataFrames\n",
    "from pandas.plotting import scatter_matrix\n",
    "# Numerik-Bibliothek\n",
    "import numpy as np\n",
    "import itertools\n",
    "# Ausgewählte ML-Methoden aus Scikitlearn\n",
    "from sklearn.svm import SVC\n",
    "from sklearn.preprocessing import StandardScaler\n",
    "from sklearn.metrics import confusion_matrix\n",
    "\n",
    "# Plots sollen im Notebook erscheinen\n",
    "%matplotlib inline\n",
    "\n",
    "# Plot the decision plane between two classes\n",
    "def plot_svc_decision_plane(ax, svm_clf, xmin, xmax, ymin, ymax):\n",
    "    w = svm_clf.coef_[0]\n",
    "    b = svm_clf.intercept_[0]\n",
    "\n",
    "    # At the decision boundary, w0 * x + w1*y + w2 * z + b = 0\n",
    "    # => z = -w0/w2 * x -w1/w2 * y  - b/w2\n",
    "    x = np.linspace(xmin, xmax, 10)\n",
    "    y = np.linspace(ymin, ymax, 10)\n",
    "    [X, Y] = np.meshgrid(x, y)\n",
    "    decision_boundary = -w[0]/w[2] * X - w[1]/w[2] * Y - b/w[2]\n",
    "\n",
    "    #svs = svm_clf.support_vectors_\n",
    "    #plt.scatter(svs[:, 0], svs[:, 1], s=180, facecolors='#FFAAAA')\n",
    "    ax.plot_wireframe(X, Y, decision_boundary)#, \"k-\", linewidth=2)"
   ]
  },
  {
   "cell_type": "markdown",
   "metadata": {},
   "source": [
    "## Challenge 1:\n",
    "\n",
    "Daten laden und im DataFrame-Format nutzbar machen"
   ]
  },
  {
   "cell_type": "code",
   "execution_count": null,
   "metadata": {},
   "outputs": [],
   "source": [
    "# CSV vom Server laden\n",
    "df = pd.read_csv(\"http://raphaelpfaff.net/wp-content/uploads/2018/03/SpringPBData.csv\")\n",
    "# Unbenannte Index-Spalte umbenennen\n",
    "df.rename(columns = {\"Unnamed: 0\":\"Time\"}, inplace = True)\n",
    "# Datum-String in TimeStamp umwandeln und als Index verwenden\n",
    "df.set_index(pd.to_datetime(df[\"Time\"]), inplace = True)\n",
    "# Time muss nach der Verwendung als Index nicht noch einmal in der Tabelle sein\n",
    "df.drop([\"Time\", \"x\"], axis = 1, inplace = True)\n",
    "# Tabelle anschauen\n",
    "df.head()"
   ]
  },
  {
   "cell_type": "markdown",
   "metadata": {},
   "source": [
    "Wie viele Federspeicher sind nicht OK?\n",
    "\n",
    "Minimale Kraft $F = 18\\, \\mathrm{kN}$"
   ]
  },
  {
   "cell_type": "code",
   "execution_count": null,
   "metadata": {},
   "outputs": [],
   "source": [
    "df[df[\"F\"] < 18000][\"F\"].count()"
   ]
  },
  {
   "cell_type": "markdown",
   "metadata": {},
   "source": [
    "## Challenge 2:\n",
    "\n",
    "Histogramm der Kräfte der Federspeicher anzeigen"
   ]
  },
  {
   "cell_type": "code",
   "execution_count": null,
   "metadata": {},
   "outputs": [],
   "source": [
    "df[\"F\"].hist()"
   ]
  },
  {
   "cell_type": "markdown",
   "metadata": {},
   "source": [
    "**Gibt es Korrelationen zwischen den geometrischen Daten und der Kraft?**"
   ]
  },
  {
   "cell_type": "code",
   "execution_count": null,
   "metadata": {},
   "outputs": [],
   "source": [
    "q = scatter_matrix(df)"
   ]
  },
  {
   "cell_type": "markdown",
   "metadata": {},
   "source": [
    "** Vermutung: die geometrischen Daten genügen, die Konformität der Kraft vorherzusagen**"
   ]
  },
  {
   "cell_type": "code",
   "execution_count": null,
   "metadata": {},
   "outputs": [],
   "source": [
    "# Konforme Zylinder mit \"OK = 1.0\" labeln\n",
    "Fmin = 18000\n",
    "df[\"OK\"] = 1.0*(df[\"F\"] > Fmin)\n",
    "# Im Scatterplot darstellen\n",
    "df.plot(kind=\"scatter\", y=\"h2\", x=\"h1\", alpha = 0.9, figsize=(7,5), c = \"OK\", cmap = \"RdYlGn\")"
   ]
  },
  {
   "cell_type": "markdown",
   "metadata": {
    "collapsed": true
   },
   "source": [
    "## Challenge 3:\n",
    "\n",
    "Im Scatterplot kann keine Trennungsgerade gefunden werden, wir müssen höherdimensional werden!"
   ]
  },
  {
   "cell_type": "markdown",
   "metadata": {},
   "source": [
    "### SVM trainieren"
   ]
  },
  {
   "cell_type": "code",
   "execution_count": null,
   "metadata": {},
   "outputs": [],
   "source": [
    "# Daten normalisieren mit Scaler, anlegen\n",
    "scaler = StandardScaler()\n",
    "# Welche Daten dienen als Grundlage?\n",
    "X = df[['l', 'h1', 'h2']]\n",
    "# Daten skalieren\n",
    "X = scaler.fit_transform(X)\n",
    "# Label training data\n",
    "y = df['OK']\n",
    "# Support Vector Machine initialisieren\n",
    "svm_clf = SVC(kernel=\"linear\")\n",
    "# SVM trainieren\n",
    "svm_clf.fit(X, y)"
   ]
  },
  {
   "cell_type": "markdown",
   "metadata": {},
   "source": [
    "**Darstellung der Federspeicher-Eigenschaften und der Trennebene im 3D-Scatter**"
   ]
  },
  {
   "cell_type": "code",
   "execution_count": null,
   "metadata": {},
   "outputs": [],
   "source": [
    "# Plot 3D scatter with decision boundary\n",
    "from mpl_toolkits.mplot3d import Axes3D\n",
    "x = X[:,1]\n",
    "y = X[:,2]\n",
    "z = X[:,0]\n",
    "c = (df[\"F\"]>Fmin)*1.0\n",
    "\n",
    "fig = plt.figure(figsize=(10, 10))\n",
    "ax = fig.add_subplot(111, projection='3d')\n",
    "\n",
    "ax.scatter(x, y, z, c = c, cmap = \"RdYlGn\")\n",
    "plot_svc_decision_plane(ax, svm_clf, min(x), max(x), min(y), max(y))\n",
    "ax.set_xlabel('$h_1$')\n",
    "ax.set_ylabel('$h_2$')\n",
    "ax.set_zlabel('$l$')"
   ]
  },
  {
   "cell_type": "markdown",
   "metadata": {},
   "source": [
    "### Validieren der SVM"
   ]
  },
  {
   "cell_type": "code",
   "execution_count": null,
   "metadata": {},
   "outputs": [],
   "source": [
    "# Nicht zum Lernen verwendete Daten zum Testen laden\n",
    "dfval = pd.read_csv(\"http://raphaelpfaff.net/wp-content/uploads/2018/03/SpringPBDataValidation.csv\")\n",
    "# Daten aus dem Validierungsdatensatz auswählen\n",
    "Xval = dfval[['l', 'h1', 'h2']]\n",
    "# Transformation anwenden\n",
    "Xval_scaled = scaler.transform(Xval)\n",
    "# Vorhersage der Kraft des Federspeichers aus den geometrischen Daten\n",
    "Fconf_pred = np.reshape((svm_clf.predict(Xval_scaled) == 1), (100, 1))\n",
    "# Wahre Werte zum Vergleich\n",
    "Fconf_true = (dfval[\"F\"] > Fmin)"
   ]
  },
  {
   "cell_type": "markdown",
   "metadata": {},
   "source": [
    "**Confusion matrix**"
   ]
  },
  {
   "cell_type": "code",
   "execution_count": null,
   "metadata": {},
   "outputs": [],
   "source": [
    "# Erstellen der Confusion Matrix mit SKlearn-Methode\n",
    "conf_mat = confusion_matrix(Fconf_pred, Fconf_true)\n",
    "# Etwas aufwendiger Plot für die Darstellung\n",
    "plt.imshow(conf_mat, cmap = \"OrRd\")\n",
    "plt.colorbar()\n",
    "plt.xticks((0, 1), (\"NOK\", \"OK\"))\n",
    "plt.yticks((0, 1), (\"NOK\", \"OK\"))\n",
    "plt.xlabel('Predicted Class')\n",
    "plt.ylabel('True Class')\n",
    "for i,j in itertools.product((0,1), (0,1)):\n",
    "    plt.text(j,i, conf_mat[i,j])"
   ]
  }
 ],
 "metadata": {
  "kernelspec": {
   "display_name": "Python 3",
   "language": "python",
   "name": "python3"
  },
  "language_info": {
   "codemirror_mode": {
    "name": "ipython",
    "version": 3
   },
   "file_extension": ".py",
   "mimetype": "text/x-python",
   "name": "python",
   "nbconvert_exporter": "python",
   "pygments_lexer": "ipython3",
   "version": "3.5.4"
  }
 },
 "nbformat": 4,
 "nbformat_minor": 2
}
