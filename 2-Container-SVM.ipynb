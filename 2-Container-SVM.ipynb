{
 "cells": [
  {
   "cell_type": "markdown",
   "metadata": {},
   "source": [
    "# Predict unobserved properties by help of machine learning"
   ]
  },
  {
   "cell_type": "code",
   "execution_count": null,
   "metadata": {},
   "outputs": [],
   "source": [
    "# Standard imports\n",
    "import numpy as np\n",
    "import os\n",
    "import itertools\n",
    "%matplotlib inline\n",
    "import matplotlib\n",
    "import matplotlib.pyplot as plt\n",
    "import pandas as pd\n",
    "from pandas.plotting import scatter_matrix\n",
    "import seaborn as sns\n",
    "# Scikit learn imports\n",
    "from sklearn.svm import SVC\n",
    "from sklearn.preprocessing import StandardScaler\n",
    "from sklearn.metrics import confusion_matrix\n",
    "# Plotly\n",
    "import plotly as py\n",
    "import plotly.offline as po\n"
   ]
  },
  {
   "cell_type": "markdown",
   "metadata": {},
   "source": [
    "## Load DB open dataset\n",
    "Contains position and state data from containers in transport"
   ]
  },
  {
   "cell_type": "code",
   "execution_count": null,
   "metadata": {},
   "outputs": [],
   "source": [
    "# Load data\n",
    "df = pd.read_csv('http://download-data.deutschebahn.com/static/datasets/sensordaten_schenker/161209_Schenker_Sensordaten.csv')\n",
    "# First line contains comments\n",
    "df.drop(0, inplace = True)\n",
    "# inspect\n",
    "df.head()"
   ]
  },
  {
   "cell_type": "markdown",
   "metadata": {},
   "source": [
    "Data cleaning:\n",
    "- Remove NaN\n",
    "- Convert strings to numbers"
   ]
  },
  {
   "cell_type": "code",
   "execution_count": null,
   "metadata": {},
   "outputs": [],
   "source": [
    "df.dropna(subset=['Latitude', 'Longitude', 'Humidity', 'Temperature'], inplace = True)\n",
    "df = df[['Latitude', 'Longitude', 'Humidity', 'Temperature']].apply(pd.to_numeric)\n",
    "df.describe()"
   ]
  },
  {
   "cell_type": "markdown",
   "metadata": {},
   "source": [
    "### Scatter plot, no map background"
   ]
  },
  {
   "cell_type": "code",
   "execution_count": null,
   "metadata": {},
   "outputs": [],
   "source": [
    "df.plot(x = 'Longitude', y = 'Latitude', kind = 'scatter', c = df['Temperature'], cmap = 'coolwarm')"
   ]
  },
  {
   "cell_type": "markdown",
   "metadata": {},
   "source": [
    "### Scatter plot on map background"
   ]
  },
  {
   "cell_type": "code",
   "execution_count": null,
   "metadata": {},
   "outputs": [],
   "source": [
    "data = [ dict(\n",
    "        type = 'scattergeo',\n",
    "        #locationmode = 'Germany',\n",
    "        lon = df['Longitude'],\n",
    "        lat = df['Latitude'],\n",
    "        text = df['Temperature'],\n",
    "        mode = 'markers',\n",
    "        marker = dict(\n",
    "            size = 0.1*df['Humidity'],\n",
    "            opacity = 0.8,\n",
    "            #reversescale = True,\n",
    "            autocolorscale = False,\n",
    "            #symbol = 'square',\n",
    "            colorscale = 'Jet',\n",
    "            color = df['Temperature'],\n",
    "            #cmax = df['Temperature'].max(),\n",
    "            colorbar=dict(thickness=20)\n",
    "        ))]\n",
    "\n",
    "layout = dict(\n",
    "        title = 'Observed container temperatures',\n",
    "        colorbar = dict(),\n",
    "        geo = dict(\n",
    "            showland = True,\n",
    "            landcolor = \"rgb(250, 250, 250)\",\n",
    "            subunitcolor = \"rgb(217, 217, 217)\",\n",
    "            countrycolor = \"rgb(217, 217, 217)\",\n",
    "            countrywidth = 0.5,\n",
    "            subunitwidth = 0.5,\n",
    "            lonaxis = dict(\n",
    "                showgrid = True,\n",
    "                gridwidth = 0.5,\n",
    "                range= [ df['Longitude'].min(), df['Longitude'].max() ],\n",
    "                dtick = 5\n",
    "            ),\n",
    "            lataxis = dict (\n",
    "                showgrid = True,\n",
    "                gridwidth = 0.5,\n",
    "                range= [ df['Latitude'].min(), df['Latitude'].max() ],\n",
    "                dtick = 5\n",
    "            )\n",
    "        ),\n",
    "    )\n",
    "\n",
    "fig = dict( data=data, layout=layout )\n",
    "po.plot(fig, validate=False, filename='d3-container.html')"
   ]
  },
  {
   "cell_type": "markdown",
   "metadata": {},
   "source": [
    "### Train model to predict frost:\n",
    "- Split into training and test data\n",
    "- Scale data\n",
    "- Fit SVM"
   ]
  },
  {
   "cell_type": "code",
   "execution_count": null,
   "metadata": {},
   "outputs": [],
   "source": [
    "from sklearn.model_selection import train_test_split\n",
    "# Data selection\n",
    "X = df[['Latitude', 'Longitude']]\n",
    "# Label target data\n",
    "y = (df['Temperature'] <0)\n",
    "X_train, X_test, y_train, y_test = train_test_split(X, y, test_size=0.33, random_state=42)"
   ]
  },
  {
   "cell_type": "code",
   "execution_count": null,
   "metadata": {},
   "outputs": [],
   "source": [
    "# Initialise scaler\n",
    "scaler = StandardScaler()\n",
    "# Scale data\n",
    "X_train_scale = scaler.fit_transform(X_train)\n",
    "# Initialise support vector machine\n",
    "svm_clf = SVC(kernel='linear', C = 0.5)\n",
    "# Fit SVM\n",
    "svm_clf.fit(X_train_scale, y_train)"
   ]
  },
  {
   "cell_type": "markdown",
   "metadata": {},
   "source": [
    "### Plot decision surface of classifier"
   ]
  },
  {
   "cell_type": "code",
   "execution_count": null,
   "metadata": {},
   "outputs": [],
   "source": [
    "sns.set()\n",
    "# Plot 3D scatter with decision boundary\n",
    "from mpl_toolkits.mplot3d import Axes3D\n",
    "x = X_train['Longitude']\n",
    "y = X_train['Latitude']\n",
    "c = y_train*1.0\n",
    "\n",
    "xx = np.linspace(min(X_train_scale[:,0]), max(X_train_scale[:,0]), 50)\n",
    "yy = np.linspace(min(X_train_scale[:,1]), max(X_train_scale[:,1]), 50)\n",
    "[Y, X] = np.meshgrid(xx, yy)\n",
    "Z = svm_clf.predict(np.c_[X.ravel(), Y.ravel()])\n",
    "Z = Z.reshape(X.shape)\n",
    "xx = np.linspace(min(x), max(x), 50)\n",
    "yy = np.linspace(min(y), max(y), 50)\n",
    "[X, Y] = np.meshgrid(xx, yy)\n",
    "\n",
    "with sns.axes_style('white'):\n",
    "    fig = plt.figure(figsize=(16, 6))\n",
    "    ax = fig.add_subplot(111)\n",
    "    ax.contourf(X, Y, Z, cmap = 'Blues', alpha = 0.5)\n",
    "    ax.scatter(x, y, c = c, cmap = 'RdYlGn')"
   ]
  },
  {
   "cell_type": "markdown",
   "metadata": {},
   "source": [
    "### Test on unseen data:"
   ]
  },
  {
   "cell_type": "code",
   "execution_count": null,
   "metadata": {},
   "outputs": [],
   "source": [
    "X_test_scale = scaler.transform(X_test)\n",
    "# Predict \n",
    "y_pred = svm_clf.predict(X_test_scale)\n",
    "# Plot\n",
    "X_test.plot(x = 'Longitude', y = 'Latitude', kind = 'scatter', c=y_pred.astype(int), cmap = 'RdYlGn')"
   ]
  },
  {
   "cell_type": "markdown",
   "metadata": {},
   "source": [
    "Inspect confusion matrix"
   ]
  },
  {
   "cell_type": "code",
   "execution_count": null,
   "metadata": {},
   "outputs": [],
   "source": [
    "conf_mat = confusion_matrix(1.0*y_pred, 1.0*y_test)\n",
    "plt.imshow(conf_mat, cmap = plt.cm.Blues, alpha = 0.3)\n",
    "plt.colorbar()\n",
    "plt.xticks((0, 1), (\"<0\", \">=0\"))\n",
    "plt.yticks((0, 1), (\"<0\", \">=0\"))\n",
    "plt.xlabel('Predicted Class')\n",
    "plt.ylabel('True Class')\n",
    "for i,j in itertools.product((0,1), (0,1)):\n",
    "    plt.text(j,i, conf_mat[i,j], fontsize = 16)\n"
   ]
  },
  {
   "cell_type": "code",
   "execution_count": null,
   "metadata": {},
   "outputs": [],
   "source": []
  }
 ],
 "metadata": {
  "kernelspec": {
   "display_name": "Python 3",
   "language": "python",
   "name": "python3"
  },
  "language_info": {
   "codemirror_mode": {
    "name": "ipython",
    "version": 3
   },
   "file_extension": ".py",
   "mimetype": "text/x-python",
   "name": "python",
   "nbconvert_exporter": "python",
   "pygments_lexer": "ipython3",
   "version": "3.5.4"
  }
 },
 "nbformat": 4,
 "nbformat_minor": 2
}
