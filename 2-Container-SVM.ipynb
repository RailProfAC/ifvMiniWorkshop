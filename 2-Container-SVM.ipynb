{
 "cells": [
  {
   "cell_type": "markdown",
   "metadata": {},
   "source": [
    "# Predict unobserved properties by help of machine learning"
   ]
  },
  {
   "cell_type": "code",
   "execution_count": 1,
   "metadata": {},
   "outputs": [],
   "source": [
    "# Standard imports\n",
    "import numpy as np\n",
    "import os\n",
    "import itertools\n",
    "%matplotlib inline\n",
    "import matplotlib\n",
    "import matplotlib.pyplot as plt\n",
    "import pandas as pd\n",
    "from pandas.plotting import scatter_matrix\n",
    "import seaborn as sns\n",
    "# Scikit learn imports\n",
    "from sklearn.svm import SVC\n",
    "from sklearn.preprocessing import StandardScaler\n",
    "from sklearn.metrics import confusion_matrix\n",
    "# Plotly\n",
    "import plotly as py\n",
    "import plotly.offline as po\n"
   ]
  },
  {
   "cell_type": "markdown",
   "metadata": {},
   "source": [
    "## Load DB open dataset\n",
    "Contains position and state data from containers in transport"
   ]
  },
  {
   "cell_type": "code",
   "execution_count": 2,
   "metadata": {},
   "outputs": [
    {
     "data": {
      "text/html": [
       "<div>\n",
       "<style scoped>\n",
       "    .dataframe tbody tr th:only-of-type {\n",
       "        vertical-align: middle;\n",
       "    }\n",
       "\n",
       "    .dataframe tbody tr th {\n",
       "        vertical-align: top;\n",
       "    }\n",
       "\n",
       "    .dataframe thead th {\n",
       "        text-align: right;\n",
       "    }\n",
       "</style>\n",
       "<table border=\"1\" class=\"dataframe\">\n",
       "  <thead>\n",
       "    <tr style=\"text-align: right;\">\n",
       "      <th></th>\n",
       "      <th>index</th>\n",
       "      <th>SXXJ number</th>\n",
       "      <th>Container</th>\n",
       "      <th>Date</th>\n",
       "      <th>Time_UTC</th>\n",
       "      <th>Latitude</th>\n",
       "      <th>Longitude</th>\n",
       "      <th>Accuracy</th>\n",
       "      <th>Active</th>\n",
       "      <th>Reverse</th>\n",
       "      <th>...</th>\n",
       "      <th>Door</th>\n",
       "      <th>Mount</th>\n",
       "      <th>Motion</th>\n",
       "      <th>GForce</th>\n",
       "      <th>Tilt</th>\n",
       "      <th>Temperature</th>\n",
       "      <th>Humidity</th>\n",
       "      <th>Light</th>\n",
       "      <th>Origin</th>\n",
       "      <th>Destination</th>\n",
       "    </tr>\n",
       "  </thead>\n",
       "  <tbody>\n",
       "    <tr>\n",
       "      <th>1</th>\n",
       "      <td>0</td>\n",
       "      <td>A</td>\n",
       "      <td>NONE</td>\n",
       "      <td>2016-08-08</td>\n",
       "      <td>14:39:36</td>\n",
       "      <td>NaN</td>\n",
       "      <td>NaN</td>\n",
       "      <td>NaN</td>\n",
       "      <td>0</td>\n",
       "      <td>0</td>\n",
       "      <td>...</td>\n",
       "      <td>1</td>\n",
       "      <td>1</td>\n",
       "      <td>0</td>\n",
       "      <td>NaN</td>\n",
       "      <td>NaN</td>\n",
       "      <td>NaN</td>\n",
       "      <td>NaN</td>\n",
       "      <td>NaN</td>\n",
       "      <td>NaN</td>\n",
       "      <td>NaN</td>\n",
       "    </tr>\n",
       "    <tr>\n",
       "      <th>2</th>\n",
       "      <td>1</td>\n",
       "      <td>A</td>\n",
       "      <td>NONE</td>\n",
       "      <td>2016-08-08</td>\n",
       "      <td>14:39:45</td>\n",
       "      <td>NaN</td>\n",
       "      <td>NaN</td>\n",
       "      <td>NaN</td>\n",
       "      <td>0</td>\n",
       "      <td>0</td>\n",
       "      <td>...</td>\n",
       "      <td>1</td>\n",
       "      <td>1</td>\n",
       "      <td>0</td>\n",
       "      <td>NaN</td>\n",
       "      <td>NaN</td>\n",
       "      <td>NaN</td>\n",
       "      <td>NaN</td>\n",
       "      <td>NaN</td>\n",
       "      <td>NaN</td>\n",
       "      <td>NaN</td>\n",
       "    </tr>\n",
       "    <tr>\n",
       "      <th>3</th>\n",
       "      <td>2</td>\n",
       "      <td>A</td>\n",
       "      <td>NONE</td>\n",
       "      <td>2016-08-08</td>\n",
       "      <td>14:40:34</td>\n",
       "      <td>25.794100</td>\n",
       "      <td>-80.369301</td>\n",
       "      <td>cellid</td>\n",
       "      <td>0</td>\n",
       "      <td>0</td>\n",
       "      <td>...</td>\n",
       "      <td>1</td>\n",
       "      <td>1</td>\n",
       "      <td>0</td>\n",
       "      <td>NaN</td>\n",
       "      <td>NaN</td>\n",
       "      <td>NaN</td>\n",
       "      <td>NaN</td>\n",
       "      <td>NaN</td>\n",
       "      <td>NaN</td>\n",
       "      <td>NaN</td>\n",
       "    </tr>\n",
       "    <tr>\n",
       "      <th>4</th>\n",
       "      <td>3</td>\n",
       "      <td>A</td>\n",
       "      <td>NONE</td>\n",
       "      <td>2016-08-08</td>\n",
       "      <td>15:57:46</td>\n",
       "      <td>NaN</td>\n",
       "      <td>NaN</td>\n",
       "      <td>NaN</td>\n",
       "      <td>1</td>\n",
       "      <td>0</td>\n",
       "      <td>...</td>\n",
       "      <td>0</td>\n",
       "      <td>0</td>\n",
       "      <td>0</td>\n",
       "      <td>0.000</td>\n",
       "      <td>NaN</td>\n",
       "      <td>29.800</td>\n",
       "      <td>75.700</td>\n",
       "      <td>NaN</td>\n",
       "      <td>NaN</td>\n",
       "      <td>NaN</td>\n",
       "    </tr>\n",
       "    <tr>\n",
       "      <th>5</th>\n",
       "      <td>4</td>\n",
       "      <td>A</td>\n",
       "      <td>NONE</td>\n",
       "      <td>2016-08-08</td>\n",
       "      <td>15:58:50</td>\n",
       "      <td>25.799700</td>\n",
       "      <td>-80.367302</td>\n",
       "      <td>cellid</td>\n",
       "      <td>1</td>\n",
       "      <td>0</td>\n",
       "      <td>...</td>\n",
       "      <td>0</td>\n",
       "      <td>0</td>\n",
       "      <td>0</td>\n",
       "      <td>0.000</td>\n",
       "      <td>NaN</td>\n",
       "      <td>29.900</td>\n",
       "      <td>73.000</td>\n",
       "      <td>NaN</td>\n",
       "      <td>NaN</td>\n",
       "      <td>NaN</td>\n",
       "    </tr>\n",
       "  </tbody>\n",
       "</table>\n",
       "<p>5 rows × 21 columns</p>\n",
       "</div>"
      ],
      "text/plain": [
       "  index SXXJ number Container        Date  Time_UTC   Latitude   Longitude  \\\n",
       "1     0           A      NONE  2016-08-08  14:39:36        NaN         NaN   \n",
       "2     1           A      NONE  2016-08-08  14:39:45        NaN         NaN   \n",
       "3     2           A      NONE  2016-08-08  14:40:34  25.794100  -80.369301   \n",
       "4     3           A      NONE  2016-08-08  15:57:46        NaN         NaN   \n",
       "5     4           A      NONE  2016-08-08  15:58:50  25.799700  -80.367302   \n",
       "\n",
       "  Accuracy Active Reverse     ...     Door Mount Motion GForce Tilt  \\\n",
       "1      NaN      0       0     ...        1     1      0    NaN  NaN   \n",
       "2      NaN      0       0     ...        1     1      0    NaN  NaN   \n",
       "3   cellid      0       0     ...        1     1      0    NaN  NaN   \n",
       "4      NaN      1       0     ...        0     0      0  0.000  NaN   \n",
       "5   cellid      1       0     ...        0     0      0  0.000  NaN   \n",
       "\n",
       "  Temperature Humidity Light Origin Destination  \n",
       "1         NaN      NaN   NaN    NaN         NaN  \n",
       "2         NaN      NaN   NaN    NaN         NaN  \n",
       "3         NaN      NaN   NaN    NaN         NaN  \n",
       "4      29.800   75.700   NaN    NaN         NaN  \n",
       "5      29.900   73.000   NaN    NaN         NaN  \n",
       "\n",
       "[5 rows x 21 columns]"
      ]
     },
     "execution_count": 2,
     "metadata": {},
     "output_type": "execute_result"
    }
   ],
   "source": [
    "# Load data\n",
    "df = pd.read_csv('http://download-data.deutschebahn.com/static/datasets/sensordaten_schenker/161209_Schenker_Sensordaten.csv')\n",
    "# First line contains comments\n",
    "df.drop(0, inplace = True)\n",
    "# inspect\n",
    "df.head()"
   ]
  },
  {
   "cell_type": "markdown",
   "metadata": {},
   "source": [
    "Data cleaning:\n",
    "- Remove NaN\n",
    "- Convert strings to numbers"
   ]
  },
  {
   "cell_type": "code",
   "execution_count": null,
   "metadata": {},
   "outputs": [],
   "source": [
    "df.dropna(subset=['Latitude', 'Longitude', 'Humidity', 'Temperature'], inplace = True)\n",
    "df = df[['Latitude', 'Longitude', 'Humidity', 'Temperature']].apply(pd.to_numeric)\n",
    "df.describe()"
   ]
  },
  {
   "cell_type": "markdown",
   "metadata": {},
   "source": [
    "### Scatter plot, no map background"
   ]
  },
  {
   "cell_type": "code",
   "execution_count": null,
   "metadata": {},
   "outputs": [],
   "source": [
    "df.plot(x = 'Longitude', y = 'Latitude', kind = 'scatter', c = df['Temperature'], cmap = 'coolwarm')"
   ]
  },
  {
   "cell_type": "markdown",
   "metadata": {},
   "source": [
    "### Scatter plot on map background"
   ]
  },
  {
   "cell_type": "code",
   "execution_count": null,
   "metadata": {},
   "outputs": [],
   "source": [
    "data = [ dict(\n",
    "        type = 'scattergeo',\n",
    "        #locationmode = 'Germany',\n",
    "        lon = df['Longitude'],\n",
    "        lat = df['Latitude'],\n",
    "        text = df['Temperature'],\n",
    "        mode = 'markers',\n",
    "        marker = dict(\n",
    "            size = 0.1*df['Humidity'],\n",
    "            opacity = 0.8,\n",
    "            #reversescale = True,\n",
    "            autocolorscale = False,\n",
    "            #symbol = 'square',\n",
    "            colorscale = 'Jet',\n",
    "            color = df['Temperature'],\n",
    "            #cmax = df['Temperature'].max(),\n",
    "            colorbar=dict(thickness=20)\n",
    "        ))]\n",
    "\n",
    "layout = dict(\n",
    "        title = 'Observed container temperatures',\n",
    "        colorbar = dict(),\n",
    "        geo = dict(\n",
    "            showland = True,\n",
    "            landcolor = \"rgb(250, 250, 250)\",\n",
    "            subunitcolor = \"rgb(217, 217, 217)\",\n",
    "            countrycolor = \"rgb(217, 217, 217)\",\n",
    "            countrywidth = 0.5,\n",
    "            subunitwidth = 0.5,\n",
    "            lonaxis = dict(\n",
    "                showgrid = True,\n",
    "                gridwidth = 0.5,\n",
    "                range= [ df['Longitude'].min(), df['Longitude'].max() ],\n",
    "                dtick = 5\n",
    "            ),\n",
    "            lataxis = dict (\n",
    "                showgrid = True,\n",
    "                gridwidth = 0.5,\n",
    "                range= [ df['Latitude'].min(), df['Latitude'].max() ],\n",
    "                dtick = 5\n",
    "            )\n",
    "        ),\n",
    "    )\n",
    "\n",
    "fig = dict( data=data, layout=layout )\n",
    "po.plot(fig, validate=False, filename='d3-container.html')"
   ]
  },
  {
   "cell_type": "markdown",
   "metadata": {},
   "source": [
    "### Train model to predict frost:\n",
    "- Split into training and test data\n",
    "- Scale data\n",
    "- Fit SVM"
   ]
  },
  {
   "cell_type": "code",
   "execution_count": null,
   "metadata": {},
   "outputs": [],
   "source": [
    "from sklearn.model_selection import train_test_split\n",
    "# Data selection\n",
    "X = df[['Latitude', 'Longitude']]\n",
    "# Label target data\n",
    "y = (df['Temperature'] <0)\n",
    "X_train, X_test, y_train, y_test = train_test_split(X, y, test_size=0.33, random_state=42)"
   ]
  },
  {
   "cell_type": "code",
   "execution_count": null,
   "metadata": {},
   "outputs": [],
   "source": [
    "# Initialise scaler\n",
    "scaler = StandardScaler()\n",
    "# Scale data\n",
    "X_train_scale = scaler.fit_transform(X_train)\n",
    "# Initialise support vector machine\n",
    "svm_clf = SVC(kernel='rbf', C = 100)\n",
    "# Fit SVM\n",
    "svm_clf.fit(X_train_scale, y_train)"
   ]
  },
  {
   "cell_type": "markdown",
   "metadata": {},
   "source": [
    "### Plot decision surface of classifier"
   ]
  },
  {
   "cell_type": "code",
   "execution_count": null,
   "metadata": {},
   "outputs": [],
   "source": [
    "sns.set()\n",
    "# Plot 3D scatter with decision boundary\n",
    "from mpl_toolkits.mplot3d import Axes3D\n",
    "x = X_train['Longitude']\n",
    "y = X_train['Latitude']\n",
    "c = y_train*1.0\n",
    "\n",
    "xx = np.linspace(min(X_train_scale[:,0]), max(X_train_scale[:,0]), 50)\n",
    "yy = np.linspace(min(X_train_scale[:,1]), max(X_train_scale[:,1]), 50)\n",
    "[Y, X] = np.meshgrid(xx, yy)\n",
    "Z = svm_clf.predict(np.c_[X.ravel(), Y.ravel()])\n",
    "Z = Z.reshape(X.shape)\n",
    "xx = np.linspace(min(x), max(x), 50)\n",
    "yy = np.linspace(min(y), max(y), 50)\n",
    "[X, Y] = np.meshgrid(xx, yy)\n",
    "\n",
    "with sns.axes_style('white'):\n",
    "    fig = plt.figure(figsize=(16, 6))\n",
    "    ax = fig.add_subplot(111)\n",
    "    ax.contourf(X, Y, Z, cmap = 'Blues', alpha = 0.5)\n",
    "    ax.scatter(x, y, c = c, cmap = 'RdYlGn')"
   ]
  },
  {
   "cell_type": "markdown",
   "metadata": {},
   "source": [
    "### Test on unseen data:"
   ]
  },
  {
   "cell_type": "code",
   "execution_count": null,
   "metadata": {},
   "outputs": [],
   "source": [
    "X_test_scale = scaler.transform(X_test)\n",
    "# Predict \n",
    "y_pred = svm_clf.predict(X_test_scale)\n",
    "# Plot\n",
    "X_test.plot(x = 'Longitude', y = 'Latitude', kind = 'scatter', c=y_pred.astype(int), cmap = 'RdYlGn')"
   ]
  },
  {
   "cell_type": "markdown",
   "metadata": {},
   "source": [
    "Inspect confusion matrix"
   ]
  },
  {
   "cell_type": "code",
   "execution_count": null,
   "metadata": {},
   "outputs": [],
   "source": [
    "conf_mat = confusion_matrix(1.0*y_test, 1.0*y_pred)\n",
    "plt.imshow(conf_mat, cmap = plt.cm.Blues, alpha = 0.3)\n",
    "plt.colorbar()\n",
    "plt.xticks((0, 1), (\"<0\", \">=0\"))\n",
    "plt.yticks((0, 1), (\"<0\", \">=0\"))\n",
    "plt.xlabel('Predicted Class')\n",
    "plt.ylabel('True Class')\n",
    "for i,j in itertools.product((0,1), (0,1)):\n",
    "    plt.text(j,i, conf_mat[i,j], fontsize = 16)\n"
   ]
  },
  {
   "cell_type": "code",
   "execution_count": null,
   "metadata": {},
   "outputs": [],
   "source": []
  }
 ],
 "metadata": {
  "kernelspec": {
   "display_name": "Python 3",
   "language": "python",
   "name": "python3"
  },
  "language_info": {
   "codemirror_mode": {
    "name": "ipython",
    "version": 3
   },
   "file_extension": ".py",
   "mimetype": "text/x-python",
   "name": "python",
   "nbconvert_exporter": "python",
   "pygments_lexer": "ipython3",
   "version": "3.5.4"
  }
 },
 "nbformat": 4,
 "nbformat_minor": 2
}
