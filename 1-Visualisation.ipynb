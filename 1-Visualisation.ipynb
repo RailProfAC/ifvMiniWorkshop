{
 "cells": [
  {
   "cell_type": "markdown",
   "metadata": {},
   "source": [
    "# Data Visualisation"
   ]
  },
  {
   "cell_type": "code",
   "execution_count": null,
   "metadata": {},
   "outputs": [],
   "source": [
    "# Betriebssystem\n",
    "import os\n",
    "# Plotbibliothek\n",
    "import matplotlib\n",
    "import matplotlib.pyplot as plt\n",
    "# Effizientes Tabellenformat (DataFrames)\n",
    "import pandas as pd\n",
    "# Luxus-Plot für DataFrames\n",
    "from pandas.plotting import scatter_matrix\n",
    "# Numerik-Bibliothek\n",
    "import numpy as np\n",
    "# More plot styles\n",
    "import seaborn as sns\n",
    "# Clickable d3.js-Plots\n",
    "import plotly as py\n",
    "import plotly.offline as po\n",
    "\n",
    "# Plots sollen im Notebook erscheinen\n",
    "%matplotlib inline"
   ]
  },
  {
   "cell_type": "markdown",
   "metadata": {},
   "source": [
    "## Analyse Emmas trace"
   ]
  },
  {
   "cell_type": "code",
   "execution_count": null,
   "metadata": {},
   "outputs": [],
   "source": [
    "df = pd.read_json('https://s3-eu-west-1.amazonaws.com/ifvworkshopdata/emma1000.json')\n",
    "df.head()"
   ]
  },
  {
   "cell_type": "markdown",
   "metadata": {
    "scrolled": true
   },
   "source": [
    "Plot velocity histogram with Matplotlib"
   ]
  },
  {
   "cell_type": "code",
   "execution_count": null,
   "metadata": {},
   "outputs": [],
   "source": [
    "plt.hist(df['v'])"
   ]
  },
  {
   "cell_type": "markdown",
   "metadata": {},
   "source": [
    "Plot in seaborn - nicer!"
   ]
  },
  {
   "cell_type": "code",
   "execution_count": null,
   "metadata": {},
   "outputs": [],
   "source": [
    "sns.distplot(df['v'])\n",
    "plt.savefig('emmavelocity.png')"
   ]
  },
  {
   "cell_type": "code",
   "execution_count": null,
   "metadata": {},
   "outputs": [],
   "source": [
    "data = [ dict(\n",
    "        type = 'scatter',\n",
    "        y = df['v'],\n",
    "        name = 'velocity',\n",
    "        line=dict( shape='spline' , filly = 'zero')\n",
    "        ),\n",
    "        dict(\n",
    "        type = 'area',\n",
    "        y = df['z']-550,\n",
    "        name = 'Rel. altitude',\n",
    "            line=dict(shape='spline' ,\n",
    "                     smoothing = .05)\n",
    "        )\n",
    "       ]\n",
    "layout = dict(\n",
    "        title = 'Emmas velocity',\n",
    "        yaxis=dict(\n",
    "        range=[0, 10]\n",
    "    ),\n",
    "    )\n",
    "fig = dict( data=data, layout=layout )\n",
    "po.plot(fig, validate=False, filename='emmavelocity.html')"
   ]
  },
  {
   "cell_type": "markdown",
   "metadata": {},
   "source": [
    "## Trying DB open data set"
   ]
  },
  {
   "cell_type": "code",
   "execution_count": null,
   "metadata": {},
   "outputs": [],
   "source": [
    "df = pd.read_csv(\n",
    "    'http://download-data.deutschebahn.com/static/datasets/haltestellen/D_Bahnhof_2017_09.csv',\n",
    "    sep = ';',decimal=\",\")\n",
    "df.head()"
   ]
  },
  {
   "cell_type": "markdown",
   "metadata": {},
   "source": [
    "Histogram of Latitudes and Longitudes"
   ]
  },
  {
   "cell_type": "code",
   "execution_count": null,
   "metadata": {
    "scrolled": true
   },
   "outputs": [],
   "source": [
    "df[[\"BREITE\", \"LAENGE\"]].hist()"
   ]
  },
  {
   "cell_type": "markdown",
   "metadata": {},
   "source": [
    "Scatterplot of Stations"
   ]
  },
  {
   "cell_type": "code",
   "execution_count": null,
   "metadata": {
    "scrolled": false
   },
   "outputs": [],
   "source": [
    "df['TYPE'] = 100*(df['VERKEHR'] == 'FV')\n",
    "df.plot(kind=\"scatter\", y=\"BREITE\", x=\"LAENGE\", alpha = 0.5, figsize=(6,10), c = \"TYPE\", cmap = \"RdYlGn\", legend = True)"
   ]
  },
  {
   "cell_type": "markdown",
   "metadata": {},
   "source": [
    "Plot station density"
   ]
  },
  {
   "cell_type": "code",
   "execution_count": null,
   "metadata": {},
   "outputs": [],
   "source": [
    "df.plot(kind=\"hexbin\", y=\"BREITE\", x=\"LAENGE\", gridsize = 20, cmap = \"Blues\", legend = True)"
   ]
  },
  {
   "cell_type": "markdown",
   "metadata": {},
   "source": [
    "Try yourself, e.g.:\n",
    "    - ‘line’ : line plot (default)\n",
    "    - ‘bar’ : vertical bar plot\n",
    "    - ‘barh’ : horizontal bar plot\n",
    "    - ‘hist’ : histogram\n",
    "    - ‘box’ : boxplot\n",
    "    - ‘kde’ : Kernel Density Estimation plot\n",
    "    - ‘density’ : same as ‘kde’\n",
    "    - ‘area’ : area plot\n",
    "     -‘pie’ : pie plot\n",
    "    - ‘scatter’ : scatter plot\n",
    "    - ‘hexbin’ : hexbin plot"
   ]
  },
  {
   "cell_type": "markdown",
   "metadata": {},
   "source": [
    "Geospatial plot in plotly"
   ]
  },
  {
   "cell_type": "code",
   "execution_count": null,
   "metadata": {},
   "outputs": [],
   "source": [
    "df = df[df['VERKEHR'] == 'FV']\n",
    "data = [ dict(\n",
    "        type = 'scattergeo',\n",
    "        locationmode = 'Germany',\n",
    "        lon = df['LAENGE'],\n",
    "        lat = df['BREITE'],\n",
    "        text = df['NAME'],\n",
    "        mode = 'markers',\n",
    "        marker = dict(\n",
    "            size = 8,\n",
    "            opacity = 0.8,\n",
    "            reversescale = True,\n",
    "            autocolorscale = False,\n",
    "            symbol = 'square',\n",
    "            #colorscale = scl,\n",
    "            #cmin = 0,\n",
    "            #color = df['cnt'],\n",
    "            #cmax = df['cnt'].max(),\n",
    "            \n",
    "        ))]\n",
    "\n",
    "layout = dict(\n",
    "        title = 'Long distance stations<br>(Hover for station names)',\n",
    "        colorbar = True,\n",
    "        geo = dict(\n",
    "            #scope='usa',\n",
    "            #projection=dict( type='albers usa' ),\n",
    "            showland = True,\n",
    "            landcolor = \"rgb(250, 250, 250)\",\n",
    "            subunitcolor = \"rgb(217, 217, 217)\",\n",
    "            countrycolor = \"rgb(217, 217, 217)\",\n",
    "            countrywidth = 0.5,\n",
    "            subunitwidth = 0.5,\n",
    "            lonaxis = dict(\n",
    "            showgrid = True,\n",
    "            gridwidth = 0.5,\n",
    "            range= [ 5, 15.0 ],\n",
    "            dtick = 5\n",
    "            ),\n",
    "            lataxis = dict (\n",
    "                showgrid = True,\n",
    "                gridwidth = 0.5,\n",
    "                range= [ 45.0, 60.0 ],\n",
    "                dtick = 5\n",
    "            )\n",
    "        ),\n",
    "    )\n",
    "\n",
    "fig = dict( data=data, layout=layout )\n",
    "po.plot(fig, validate=False, filename='d3-stations.html')"
   ]
  },
  {
   "cell_type": "code",
   "execution_count": null,
   "metadata": {},
   "outputs": [],
   "source": []
  }
 ],
 "metadata": {
  "kernelspec": {
   "display_name": "Python 3",
   "language": "python",
   "name": "python3"
  },
  "language_info": {
   "codemirror_mode": {
    "name": "ipython",
    "version": 3
   },
   "file_extension": ".py",
   "mimetype": "text/x-python",
   "name": "python",
   "nbconvert_exporter": "python",
   "pygments_lexer": "ipython3",
   "version": "3.5.4"
  }
 },
 "nbformat": 4,
 "nbformat_minor": 2
}
